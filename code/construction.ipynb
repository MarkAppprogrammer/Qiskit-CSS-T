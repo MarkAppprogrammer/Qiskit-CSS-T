{
 "cells": [
  {
   "cell_type": "markdown",
   "id": "147a1eed",
   "metadata": {},
   "source": [
    "## qLDPC CSS-T Codes\n",
    "Generating the corresponding generator matrices for the the binary codes of the $Q(C_1, C_2)$ code. Based on Theorem 9 of the paper *Toward Quantum CSS-T Codes from Sparce Matrices*"
   ]
  },
  {
   "cell_type": "code",
   "execution_count": 41,
   "id": "19ea317e",
   "metadata": {},
   "outputs": [],
   "source": [
    "import sympy as sp\n",
    "import numpy as np\n",
    "\n",
    "def schur(A: sp.Matrix, B: sp.Matrix) -> sp.Matrix:\n",
    "    if A.shape != B.shape:\n",
    "        raise ValueError(\"Matrices must have same shape.\")\n",
    "    return A.multiply_elementwise(B)\n",
    "\n",
    "def square(A: sp.Matrix) -> sp.Matrix:\n",
    "    m, n = A.shape\n",
    "    C = sp.zeros((m * m, n))\n",
    "\n",
    "    l = 0\n",
    "    for i in range(m):\n",
    "        for j in range(m):\n",
    "            C[l, :] = schur(A.row(i), A.row(j))  \n",
    "            l += 1\n",
    "    return C\n",
    "\n",
    "def QCLD(L: int, A: sp.Matrix) -> sp.Matrix:\n",
    "    P = sp.zeros(L)\n",
    "    for i in range(L - 1):\n",
    "        P[i, i + 1] = 1\n",
    "    P[L - 1, 0] = 1\n",
    "\n",
    "    m, n = A.shape\n",
    "    H = sp.zeros(m * L, n * L)\n",
    "    for i in range(m):\n",
    "        for j in range(n):\n",
    "            exp = int(A[i, j]) % L\n",
    "            if exp == -1:\n",
    "                block = sp.zeros(L)\n",
    "            else:\n",
    "                block = (P ** exp) % 2\n",
    "            H[i*L:(i+1)*L, j*L:(j+1)*L] = block\n",
    "\n",
    "    return H % 2"
   ]
  },
  {
   "cell_type": "code",
   "execution_count": null,
   "id": "ea6b6869",
   "metadata": {},
   "outputs": [],
   "source": [
    "def gf2_rref(M):\n",
    "    M = M.applyfunc(lambda x: int(x) & 1)\n",
    "    rows, cols = M.shape\n",
    "    r = 0\n",
    "    for c in range(cols):\n",
    "        pivot = next((i for i in range(r, rows) if M[i, c] == 1), None)\n",
    "        if pivot is None:\n",
    "            continue\n",
    "        if pivot != r:\n",
    "            M.row_swap(pivot, r)\n",
    "        for i in range(rows):\n",
    "            if i != r and M[i, c] == 1:\n",
    "                M.row_op(i, lambda v, j: (v + M[r, j]) % 2)\n",
    "        r += 1\n",
    "        if r == rows:\n",
    "            break\n",
    "    nonzero_rows = [M.row(i) for i in range(M.rows) if any(M.row(i))]\n",
    "    return sp.Matrix(nonzero_rows)"
   ]
  },
  {
   "cell_type": "code",
   "execution_count": 45,
   "id": "9a165e35",
   "metadata": {},
   "outputs": [
    {
     "name": "stdout",
     "output_type": "stream",
     "text": [
      "⎡1  0  0  0  0  0  1  0  0  0  0  1  0  0  1  0⎤\n",
      "⎢                                              ⎥\n",
      "⎢0  1  0  0  0  0  0  1  1  0  0  0  0  0  0  1⎥\n",
      "⎢                                              ⎥\n",
      "⎢0  0  1  0  0  0  1  0  0  1  0  0  0  0  1  0⎥\n",
      "⎢                                              ⎥\n",
      "⎢0  0  0  1  0  0  0  1  0  0  1  0  0  0  0  1⎥\n",
      "⎢                                              ⎥\n",
      "⎢0  0  0  0  1  0  1  0  0  0  0  0  1  0  1  0⎥\n",
      "⎢                                              ⎥\n",
      "⎣0  0  0  0  0  1  0  1  0  0  0  0  0  1  0  1⎦\n"
     ]
    }
   ],
   "source": [
    "L = 4\n",
    "A = sp.Matrix([\n",
    "    [3, 1, 2, 1],\n",
    "    [3, 3, 2, 3]\n",
    "])\n",
    "\n",
    "G = QCLD(L, A)\n",
    "G_rref = gf2_rref(G)\n",
    "sp.pprint(G_rref)"
   ]
  },
  {
   "cell_type": "code",
   "execution_count": null,
   "id": "d3fb2943",
   "metadata": {},
   "outputs": [],
   "source": []
  }
 ],
 "metadata": {
  "kernelspec": {
   "display_name": "base",
   "language": "python",
   "name": "python3"
  },
  "language_info": {
   "codemirror_mode": {
    "name": "ipython",
    "version": 3
   },
   "file_extension": ".py",
   "mimetype": "text/x-python",
   "name": "python",
   "nbconvert_exporter": "python",
   "pygments_lexer": "ipython3",
   "version": "3.13.5"
  }
 },
 "nbformat": 4,
 "nbformat_minor": 5
}
