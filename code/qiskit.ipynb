{
 "cells": [
  {
   "cell_type": "code",
   "execution_count": 31,
   "id": "a4cd97b8",
   "metadata": {},
   "outputs": [
    {
     "data": {
      "text/html": [
       "<pre style=\"word-wrap: normal;white-space: pre;background: #fff0;line-height: 1.1;font-family: &quot;Courier New&quot;,Courier,monospace\">     ┌───┐                                ┌─────┐┌───┐     ┌───┐┌───┐\n",
       "q_0: ┤ H ├─────────────────────────────■──┤ Sdg ├┤ H ├──■──┤ H ├┤ S ├\n",
       "     ├───┤┌───┐┌───┐     ┌─────┐┌───┐  │  └─────┘└───┘┌─┴─┐└───┘└───┘\n",
       "q_1: ┤ X ├┤ H ├┤ S ├──■──┤ Sdg ├┤ H ├──┼──────────────┤ X ├──────────\n",
       "     └───┘└───┘└───┘┌─┴─┐├─────┤├───┤┌─┴─┐ ┌───┐ ┌───┐└───┘          \n",
       "q_2: ───────────────┤ X ├┤ Sdg ├┤ H ├┤ X ├─┤ H ├─┤ S ├───────────────\n",
       "                    └───┘└─────┘└───┘└───┘ └───┘ └───┘               </pre>"
      ],
      "text/plain": [
       "     ┌───┐                                ┌─────┐┌───┐     ┌───┐┌───┐\n",
       "q_0: ┤ H ├─────────────────────────────■──┤ Sdg ├┤ H ├──■──┤ H ├┤ S ├\n",
       "     ├───┤┌───┐┌───┐     ┌─────┐┌───┐  │  └─────┘└───┘┌─┴─┐└───┘└───┘\n",
       "q_1: ┤ X ├┤ H ├┤ S ├──■──┤ Sdg ├┤ H ├──┼──────────────┤ X ├──────────\n",
       "     └───┘└───┘└───┘┌─┴─┐├─────┤├───┤┌─┴─┐ ┌───┐ ┌───┐└───┘          \n",
       "q_2: ───────────────┤ X ├┤ Sdg ├┤ H ├┤ X ├─┤ H ├─┤ S ├───────────────\n",
       "                    └───┘└─────┘└───┘└───┘ └───┘ └───┘               "
      ]
     },
     "execution_count": 31,
     "metadata": {},
     "output_type": "execute_result"
    }
   ],
   "source": [
    "from qiskit.quantum_info import StabilizerState\n",
    "\n",
    "stabilizer_list = [\"ZXX\", \"XYX\"]\n",
    "stab = StabilizerState.from_stabilizer_list(stabilizer_list, allow_underconstrained=True)\n",
    "\n",
    "clifford_circ = stab.clifford.to_circuit()\n",
    "clifford_circ.draw()"
   ]
  },
  {
   "cell_type": "code",
   "execution_count": 32,
   "id": "2f6e0779",
   "metadata": {},
   "outputs": [],
   "source": [
    "from qiskit.quantum_info import Pauli\n",
    "\n",
    "logical_Z = Pauli(\"ZZZ\")  # commutes with both stabilizers\n",
    "logical_X = Pauli(\"XXX\")  # anticommutes with logical Z"
   ]
  },
  {
   "cell_type": "code",
   "execution_count": 33,
   "id": "a5daca75",
   "metadata": {},
   "outputs": [
    {
     "data": {
      "text/latex": [
       "$$\\frac{1}{2} |000\\rangle+\\frac{1}{2} |011\\rangle- \\frac{i}{2} |101\\rangle+\\frac{i}{2} |110\\rangle$$"
      ],
      "text/plain": [
       "<IPython.core.display.Latex object>"
      ]
     },
     "execution_count": 33,
     "metadata": {},
     "output_type": "execute_result"
    }
   ],
   "source": [
    "from qiskit.quantum_info import Statevector\n",
    "\n",
    "stab_op = stab.to_operator()\n",
    "psi = Statevector(stab_op.data[:, 0])  \n",
    "\n",
    "import numpy as np\n",
    "logicalZ_op = logical_Z.to_matrix()\n",
    "proj_plus = (np.eye(8) + logicalZ_op) / 2  \n",
    "\n",
    "psi0 = proj_plus @ psi.data\n",
    "psi0 /= np.linalg.norm(psi0)\n",
    "\n",
    "psi0 = Statevector(psi0)\n",
    "psi0.draw('latex')"
   ]
  }
 ],
 "metadata": {
  "kernelspec": {
   "display_name": "base",
   "language": "python",
   "name": "python3"
  },
  "language_info": {
   "codemirror_mode": {
    "name": "ipython",
    "version": 3
   },
   "file_extension": ".py",
   "mimetype": "text/x-python",
   "name": "python",
   "nbconvert_exporter": "python",
   "pygments_lexer": "ipython3",
   "version": "3.13.5"
  }
 },
 "nbformat": 4,
 "nbformat_minor": 5
}
